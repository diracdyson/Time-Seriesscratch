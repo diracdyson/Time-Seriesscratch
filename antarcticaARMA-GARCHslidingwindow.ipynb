{
 "cells": [
  {
   "cell_type": "code",
   "execution_count": 4,
   "id": "2fe5b06d-f262-4d5e-8962-6a2fc923eae0",
   "metadata": {},
   "outputs": [],
   "source": [
    "from pmdarima.arima import auto_arima\n",
    "import pandas as pd\n",
    "import numpy as np\n",
    "from arch import arch_model\n",
    "import matplotlib.pyplot as plt\n",
    "import pmdarima as pm\n",
    "from pmdarima import model_selection\n",
    "\n",
    "import statsmodels.api as sm\n",
    "import pandas as pd\n",
    "import numpy as np\n",
    "import scipy.optimize as spop\n",
    "from scipy import stats\n"
   ]
  },
  {
   "cell_type": "code",
   "execution_count": 5,
   "id": "34bc909d-658d-4c30-80a3-ee383c2546cd",
   "metadata": {},
   "outputs": [],
   "source": [
    "returnsant=pd.read_csv('returnsant.csv')\n"
   ]
  },
  {
   "cell_type": "code",
   "execution_count": 6,
   "id": "9919e289-c6f0-4b54-b55e-f5915b90a0fc",
   "metadata": {},
   "outputs": [],
   "source": [
    "returnsant.index=returnsant.perf_date\n"
   ]
  },
  {
   "cell_type": "code",
   "execution_count": 7,
   "id": "6b3fdb56-601d-4e42-b92e-36dfdf29716e",
   "metadata": {},
   "outputs": [],
   "source": [
    "returnsant=returnsant.drop('perf_date',axis=1)\n"
   ]
  },
  {
   "cell_type": "code",
   "execution_count": 8,
   "id": "c10d7b6d-2bd4-4788-ba48-e5d2f15c1ff4",
   "metadata": {},
   "outputs": [],
   "source": [
    "returnsant=returnsant.drop('Factor - Interest Rates',axis= 1)\n"
   ]
  },
  {
   "cell_type": "code",
   "execution_count": 9,
   "id": "c04f1a2f-94eb-410b-a901-1b93c801d058",
   "metadata": {},
   "outputs": [],
   "source": [
    "returnsant=returnsant.drop('Factor - Value vs Growth',axis=1)\n"
   ]
  },
  {
   "cell_type": "code",
   "execution_count": null,
   "id": "03527405-17af-4c66-b948-32270da3d6da",
   "metadata": {},
   "outputs": [],
   "source": [
    "automodel=auto_arima(returnsant['Hedge Fund'][0:194],returnsant.drop('Hedge Fund',axis=1)[0:194], start_p=1, start_q=1, max_p=8, max_q=8, start_P=0, start_Q=0, max_P=8, max_Q=8, m=0, seasonal=False, trace=True, d=1, D=1, error_action='warn', suppress_warnings=True, random_state = 20, n_fits=30)\n",
    "automodel.resid()"
   ]
  },
  {
   "cell_type": "code",
   "execution_count": null,
   "id": "c75764f1-1630-44b5-b251-13b537552deb",
   "metadata": {},
   "outputs": [],
   "source": [
    "_garch_model = arch_model(automodel.resid()/np.std(automodel.resid()), mean='Zero', p=1, q=1)\n",
    "garch=( _garch_model.fit(disp = 'off'))"
   ]
  },
  {
   "cell_type": "code",
   "execution_count": null,
   "id": "b754fd98-1ab5-445d-b37d-6de0e6d3823b",
   "metadata": {},
   "outputs": [],
   "source": [
    "forecasts = garch.forecast(reindex=False)"
   ]
  },
  {
   "cell_type": "code",
   "execution_count": null,
   "id": "5d901d46-b76f-4882-8361-c50295309fa4",
   "metadata": {},
   "outputs": [],
   "source": [
    "forecasts.residual_variance"
   ]
  },
  {
   "cell_type": "code",
   "execution_count": null,
   "id": "58014acf-e652-42c9-b5fc-afb7bd86543c",
   "metadata": {},
   "outputs": [],
   "source": [
    "garch.params.values"
   ]
  },
  {
   "cell_type": "code",
   "execution_count": null,
   "id": "34ca8b71-a5c0-48e0-8721-a4a5e89542b9",
   "metadata": {},
   "outputs": [],
   "source": [
    "\n",
    "def slidingwindow(windowsize):\n",
    "    params=[]\n",
    "    rresid=[]\n",
    "    auto=[]\n",
    "    _garch_result=[]\n",
    "    for i in range(0,4):\n",
    "        auto.append(auto_arima(returnsant['Hedge Fund'][i*windowsize:windowsize+i*windowsize],returnsant.drop('Hedge Fund',axis=1)[i*windowsize:windowsize+i*windowsize], start_p=1, start_q=1, max_p=8, max_q=8, start_P=0, start_Q=0, max_P=8, max_Q=8, m=4, seasonal=False, trace=True, d=1, D=1, error_action='warn', suppress_warnings=True, random_state = 20, n_fits=30))\n",
    "        _garch_model = arch_model(auto[i].resid()/np.std(auto[i].resid()), mean='Zero', p=1, q=1)\n",
    "        _garch_result.append( _garch_model.fit(disp = 'off'))\n",
    "        \n",
    "        \n",
    "        \n",
    "    \n",
    "        #armapredicts=np.zeros(n_iterations)\n",
    "        #var=np.zeros(n_iterations)\n",
    "        #res=np.zeros(n_iterations)\n",
    "        #res[0]=auto[0].resid()[-1]\n",
    "    # inital condition\n",
    "        #var[0]=np.sqrt(252*40)*np.std(auto[0].resid()[:])\n",
    "    return auto, _garch_result\n",
    "\n",
    "\n",
    "def armagarch(auto_,auto_garch,n_iterations=18):\n",
    "    automodel=auto_arima(returnsant['Hedge Fund'][0:194],returnsant.drop('Hedge Fund',axis=1)[0:194], start_p=1, start_q=1, max_p=8, max_q=8, start_P=0, start_Q=0, max_P=8, max_Q=8, m=0, seasonal=False, trace=True, d=1, D=1, error_action='warn', suppress_warnings=True, random_state = 20, n_fits=30)\n",
    "    cv = model_selection.SlidingWindowForecastCV(window_size=12, step=4, h=4)\n",
    "    predictions = model_selection.cross_val_predict(\n",
    "    automodel, returnsant['Hedge Fund'][0:194], cv=cv, verbose=2, averaging=\"median\")\n",
    "    print(len(predictions))\n",
    "    armapredicts=np.zeros(n_iterations)\n",
    "    armapredicts[0] = predictions[0]\n",
    "    var=np.zeros(n_iterations)\n",
    "    res=np.zeros(n_iterations)\n",
    "    res[0]= abs(automodel.resid()[160])\n",
    "    var[0] = abs(automodel.resid()[160]) * np.sqrt(252*13)\n",
    "    for i in range(1,n_iterations):\n",
    "        noise = np.random.normal(0,1,1)\n",
    "            #omega,alpha, beta = [7.77882999e-02, 3.45400567e-14, 9.13521866e-01]\n",
    "        omega, alpha, beta = garch.params.values\n",
    "        var[i]=np.sqrt(alpha * (res[i-1])**2 + beta*(var[i-1]) + omega)\n",
    "        armapredicts[i]= predictions[159+i] +noise *var[i-1]\n",
    "        res[i]=abs(returnsant['Hedge Fund'][159 +i] - armapredicts[i])\n",
    "       # for i in range(1,194):\n",
    "    return armapredicts\n",
    "       #   \n",
    "        \n",
    "        #print(var[i])\n",
    "        #print(returnsant.iloc[159+i,1:18].values.reshape(-1,1).T.shape)\n",
    "        #print(params[0:17].values.reshape(-1,1).shape)\n",
    "     #       armapredicts[i]= params[18]*res[i-1]+returnsant.iloc[i,1:18].values.reshape(-1,1).T.dot(params[0:17].values.reshape(-1,1)) + var[i-i]*noise\n",
    "        #print(armapredicts[i])\n",
    "    #        \n",
    "        #print(res[i])\n",
    "   # return armapredicts"
   ]
  },
  {
   "cell_type": "code",
   "execution_count": null,
   "id": "66a53fdf-8c2d-4b3d-8583-aaf019959cc7",
   "metadata": {},
   "outputs": [],
   "source": [
    "\n",
    "plt.plot(np.arange(0,20),returnsant['Hedge Fund'][160:180],c='r')\n",
    "plt.plot(armagarch(auto, autogarch)/10,c='b')"
   ]
  },
  {
   "cell_type": "code",
   "execution_count": null,
   "id": "b072db66-ca03-4fc9-9c68-4c1af3d76b20",
   "metadata": {},
   "outputs": [],
   "source": [
    "auto[3].predict(1,returnsant.drop('Hedge Fund',axis=1)[159:160])"
   ]
  },
  {
   "cell_type": "code",
   "execution_count": null,
   "id": "a38ba6ac-6230-4f17-ade9-dece17dc9e64",
   "metadata": {},
   "outputs": [],
   "source": [
    "auto, autogarch= slidingwindow(40)"
   ]
  },
  {
   "cell_type": "code",
   "execution_count": null,
   "id": "3b1a30c2-b6a6-40e6-961a-f1063bb6592f",
   "metadata": {},
   "outputs": [],
   "source": [
    "autogarch[3].params.values"
   ]
  },
  {
   "cell_type": "code",
   "execution_count": null,
   "id": "4b77610e-58ae-4722-b275-505e98613e9a",
   "metadata": {},
   "outputs": [],
   "source": [
    "auto[1].resid()"
   ]
  },
  {
   "cell_type": "code",
   "execution_count": null,
   "id": "d7cad0ee-b04d-4bc4-95cf-a73eaca5a4e4",
   "metadata": {},
   "outputs": [],
   "source": [
    "auto_arima(returnsant['Hedge Fund'][0:40],returnsant.drop('Hedge Fund',axis=1)[0:40], start_p=1, start_q=1, max_p=8, max_q=8, start_P=0, start_Q=0, max_P=8, max_Q=8, m=4, seasonal=False, trace=True, d=1, D=1, error_action='warn', suppress_warnings=True, random_state = 20, n_fits=30)"
   ]
  },
  {
   "cell_type": "code",
   "execution_count": null,
   "id": "0b6e6123-50ab-4063-9651-efc6175a11fb",
   "metadata": {},
   "outputs": [],
   "source": [
    "am = arch_model(returnsant['Hedge Fund'], vol=\"Garch\", p=1, o=1, q=1, dist=\"Normal\")\n",
    "index = returnsant.index\n",
    "start_loc = 0\n",
    "end_loc = np.where(index >= \"2020-03-31\")[0].min()\n",
    "forecasts = {}\n",
    "for i in range(20):\n",
    "\n",
    "    res = am.fit(first_obs=i, last_obs=i + end_loc, disp=\"off\")\n",
    "    temp = res.forecast(horizon=1, reindex=False).variance\n",
    "    fcast = temp.iloc[0]\n",
    "    forecasts[fcast.name] = fcast"
   ]
  },
  {
   "cell_type": "code",
   "execution_count": null,
   "id": "c328bfe6-5bce-4fce-b8f0-608fbbbb7beb",
   "metadata": {},
   "outputs": [],
   "source": [
    "returnsant.index\n"
   ]
  },
  {
   "cell_type": "code",
   "execution_count": null,
   "id": "ffd74159-1430-4104-8b0d-f240c6cd6136",
   "metadata": {},
   "outputs": [],
   "source": [
    "res.params"
   ]
  },
  {
   "cell_type": "code",
   "execution_count": null,
   "id": "5b2fe3b4-490a-4743-92d4-8151c2c38ef6",
   "metadata": {},
   "outputs": [],
   "source": [
    "forecasts"
   ]
  },
  {
   "cell_type": "code",
   "execution_count": null,
   "id": "4e1e2746-14c6-46f4-abd3-c71d41256678",
   "metadata": {},
   "outputs": [],
   "source": [
    "stuff= []\n",
    "for i in range(0,190):\n",
    "    stuff=([ [returnsant['Hedge Fund'][i-f+4]] for f in range(0,0)])\n",
    "    print(stuff)"
   ]
  },
  {
   "cell_type": "code",
   "execution_count": null,
   "id": "240982e7-0f21-4832-89f3-866b7e55fcbf",
   "metadata": {},
   "outputs": [],
   "source": [
    "returnsant['Hedge Fund'][0:10]"
   ]
  },
  {
   "cell_type": "code",
   "execution_count": 94,
   "id": "d9a528e6-1769-4e13-b374-b3281aa4e29f",
   "metadata": {},
   "outputs": [],
   "source": [
    "class ARMA():\n",
    "    def __init__(self,trainendog, exog,p,q,I):\n",
    "        self.endog=trainendog\n",
    "        self.exog=exog\n",
    "        self.p=p\n",
    "        self.q=q\n",
    "        self.I=I\n",
    "        self.res=(trainendog-np.mean(trainendog))\n",
    "        self.x0=np.zeros(self.p+self.q+self.exog.shape[1]+1)\n",
    "        if I > 0:\n",
    "            for r in range(0,I):\n",
    "                self.endog=self.endog.diff()\n",
    "    \n",
    "    def acfandpacf(self):\n",
    "        sm.tsa.graphics.plot_acf( self.endog,title='ACF of endogenous')\n",
    "        sm.tsa.graphics.plot_pacf( self.endog,title='PACF of endogenous')\n",
    "    \n",
    "    @staticmethod\n",
    "    def _mse(parms,endog,exog,p,q):\n",
    "        arparams,maparams,exogparams,bias = parms[0:p],parms[p:p+q],parms[p+q:p+q+exog.shape[1]],parms[p+q+exog.shape[1]:]\n",
    "        armapredicts=np.zeros(endog.shape[0])\n",
    "        res=np.zeros(endog.shape[0])\n",
    "        res[0:q]=endog[0:q]-np.mean(endog)\n",
    "        armapredicts[0:p]= endog[0:p]\n",
    "        \n",
    "        \n",
    "        if p==0:  \n",
    "            for i in range(1,endog.shape[0]-q):\n",
    "                armapredicts[i] = np.array([[res[i-f+q]] for f in range(0,q)]).T.dot(maparams) + exog.iloc[i,:].T.dot(exogparams) + bias\n",
    "                #res[i+q]=abs(armapredicts[i]-endog[i])\n",
    "        if q==0:  \n",
    "            for i in range(1,endog.shape[0]-p):\n",
    "                armapredicts[i] =  np.array([ [armapredicts[i-f+p]] for f in range(0,p)]).T.dot(arparams)  + exog.iloc[i,:].T.dot(exogparams) + bias\n",
    "                #res[i+q]=abs(armapredicts[i]-endog[i])\n",
    "        else:\n",
    "            if p > q:\n",
    "                for i in range(1,endog.shape[0]-p):\n",
    "                    armapredicts[i] =  np.array([ [armapredicts[i-f+p]] for f in range(0,p)]).T.dot(arparams.reshape(-1,1)) + np.array([[res[i-f+q]] for f in range(0,q)]).T.dot(maparams.reshape(-1,1)) + exog.iloc[i,:].T.dot(exogparams.reshape(-1,1)) + bias \n",
    "                    #res[i+q]=abs(armapredicts[i]-endog[i])\n",
    "            if q > p:\n",
    "                for i in range(1,endog.shape[0]-q):\n",
    "                    armapredicts[i] =  np.array([ [armapredicts[i-f+p]] for f in range(0,p)]).T.dot(arparams.reshape(-1,1)) + np.array([[res[i-f+q]] for f in range(0,q)]).T.dot(maparams.reshape(-1,1)) + exog.iloc[i,:].T.dot(exogparams.reshape(-1,1)) + bias \n",
    "                    #res[i+q]=abs(armapredicts[i]-endog[i])\n",
    "            else:\n",
    "                for i in range(1,endog.shape[0]-q):\n",
    "                    armapredicts[i] =  np.array([ [armapredicts[i-f+p]] for f in range(0,p)]).T.dot(arparams.reshape(-1,1)) + np.array([[res[i-f+q]] for f in range(0,q)]).T.dot(maparams.reshape(-1,1)) + exog.iloc[i,:].T.dot(exogparams.reshape(-1,1)) + bias\n",
    "                    #res[i+q]=abs(armapredicts[i]-endog[i])\n",
    "        mse=(endog-armapredicts)**2\n",
    "        summse=np.sum(mse)\n",
    "        \n",
    "        return summse\n",
    "    \n",
    "    \n",
    "    def fit_predict(self,endogtest,exogtest,optimizer,n_iterations):\n",
    "        exog=exogtest\n",
    "        opti = spop.minimize(self._mse,self.x0,args=(self.endog,self.exog,self.p,self.q), method=optimizer)\n",
    "        parms=opti.x\n",
    "        mse=self._mse(parms,self.endog,self.exog,self.p,self.q)\n",
    "        if exog.shape[1] != self.exog.shape[1]:\n",
    "            print('ERROR: Exogenous testing has {} columns, while the training exogenous data set has {} columns '.format(exog.shape[1],self.exog.shape[1]))\n",
    "        if self.I > 0:\n",
    "            for r in range(0,self.I):\n",
    "                endogtest=endogtest.diff()\n",
    "        \n",
    "        arparams,maparams,exogparams,bias = parms[0:self.p],parms[self.p:self.p+self.q],parms[self.p+self.q:self.p+self.q+self.exog.shape[1]],parms[self.p+self.q+self.exog.shape[1]:]\n",
    "        armapredicts=np.zeros(n_iterations)\n",
    "        armapredicts[0:self.p]=self.endog[self.endog.shape[0]-self.p: self.endog.shape[0]]\n",
    "        res=np.zeros(n_iterations)\n",
    "        res[0:self.q]=self.res[len(self.res)-self.q: len(self.res)]\n",
    "        if self.p==0:  \n",
    "            for i in range(1,n_iterations-self.q):\n",
    "                armapredicts[i] = np.array([[res[i-f+self.q]] for f in range(0,self.q)]).T.dot(maparams) + self.exog.iloc[i,:].T.dot(exogparams) + bias\n",
    "                res[i+self.q]= abs(armapredicts[i] - endogtest[i])\n",
    "        if self.q==0:  \n",
    "            for i in range(1,n_iterations-self.p):\n",
    "                armapredicts[i] =  np.array([ [armapredicts[i-f+self.p]] for f in range(0,self.p)]).T.dot(arparams)  + self.exog.iloc[i,:].T.dot(exogparams) + bias\n",
    "                res[i+self.q]= abs(armapredicts[i] - endogtest[i])\n",
    "        else:\n",
    "            if self.p > self.q:\n",
    "                for i in range(1,n_iterations-self.p):\n",
    "                    armapredicts[i] =  np.array([ [armapredicts[i-f+self.p]] for f in range(0,self.p)]).T.dot(arparams.reshape(-1,1)) + np.array([[res[i-f+self.q]] for f in range(0,self.q)]).T.dot(maparams.reshape(-1,1)) + exog.iloc[i,:].T.dot(exogparams.reshape(-1,1)) + bias \n",
    "                    res[i+self.q]= abs(armapredicts[i] - endogtest[i])\n",
    "            if self.q > self.p:\n",
    "                for i in range(1,n_iterations-self.q):\n",
    "                    armapredicts[i] =  np.array([ [armapredicts[i-f+self.p]] for f in range(0,self.p)]).T.dot(arparams.reshape(-1,1)) + np.array([[res[i-f+self.q]] for f in range(0,self.q)]).T.dot(maparams.reshape(-1,1)) + exog.iloc[i,:].T.dot(exogparams.reshape(-1,1)) + bias \n",
    "                    res[i+self.q]= abs(armapredicts[i] - endogtest[i])\n",
    "            else:\n",
    "                for i in range(1,n_iterations-self.q):\n",
    "                    armapredicts[i+self.q] =  np.array([ [armapredicts[i-f+self.p]] for f in range(0,self.p)]).T.dot(arparams.reshape(-1,1)) + np.array([[res[i-f+self.q]] for f in range(0,self.q)]).T.dot(maparams.reshape(-1,1)) + exog.iloc[i,:].T.dot(exogparams.reshape(-1,1)) + bias\n",
    "                    res[i+self.q]= abs(armapredicts[i] - endogtest[i])\n",
    "        alpha=0.05\n",
    "        Tstat= stats.t.ppf(1-alpha, self.endog.shape[0])\n",
    "        predictionerror=np.sqrt(mse)*Tstat*np.sqrt(1+(1/self.endog.shape[0])+(armapredicts-np.mean(armapredicts))**2/(np.std(armapredicts)))\n",
    "        predint=[armapredicts - predictionerror, armapredicts + predictionerror]\n",
    "        return armapredicts,predint\n",
    "    \n",
    "    \n",
    "    def stepwise_search(self,maxp,maxq,optimizer):\n",
    "        mse=[]\n",
    "        i=0\n",
    "        for p in range(1,maxp-1):\n",
    "            \n",
    "            for q in range(1,maxq-1):\n",
    "                self.x0=np.zeros(p+q+self.exog.shape[1]+1)\n",
    "                opti = spop.minimize(self._mse,self.x0,args=(self.endog,self.exog,p,q), method=optimizer)\n",
    "                parmso=opti.x\n",
    "                mse.append(self._mse(parmso,self.endog,self.exog,p,q))\n",
    "                print(\"the mse is {} @ p={} and q={}\".format(mse[i],p,q))\n",
    "                i+=1\n",
    "        print(mse)\n",
    "    \n",
    "    def ADFtest(self):\n",
    "        opti = spop.minimize(self._mse,self.x0,args=(self.endog,self.exog,self.p,self.q), method=optimizer)\n",
    "        parms=opti.x\n",
    "        mse=self._mse(parms,self.endog,self.exog,self.p,self.q)\n",
    "        coef=parms[0]\n",
    "        var=(np.std(self.endog))\n",
    "        coeferror= np.sqrt( (mse)/(var*(self.endog.shape[0]-len(self.x0))))\n",
    "        ADFstat=var/coeferror\n",
    "        if ADFstat < -2.9:\n",
    "            print('Unit root null hypothesis rejetced')\n",
    "        \n",
    "            \n"
   ]
  },
  {
   "cell_type": "markdown",
   "id": "f24f81f3-ab50-4e6c-a361-eabceba30ec9",
   "metadata": {},
   "source": [
    "## Check Point \n",
    "- Implementing Trend and Seasonal Components\n",
    "- Sloppy mess but the idea is there \n",
    "- Remove the cyclical and trend component of r_t of train and test data, then fit_predict "
   ]
  },
  {
   "cell_type": "code",
   "execution_count": 26,
   "id": "827d62b3-9453-4db2-9bd4-b44e41074036",
   "metadata": {},
   "outputs": [],
   "source": [
    "class myARMA():\n",
    "    def __init__(self,trainendog, exog,p,q,I,sp,sq,m):\n",
    "        self.endog=trainendog\n",
    "        self.exog=exog\n",
    "        self.p=p\n",
    "        self.q=q\n",
    "        self.I=I\n",
    "        self.sp=sp\n",
    "        self.sq=sq\n",
    "        self.m=m\n",
    "        self.res=(trainendog-np.mean(trainendog))\n",
    "        self.x0=np.zeros(self.p+self.q+self.exog.shape[1]+1)\n",
    "        self.ox0=np.zeros(self.sp+self.sq+2)\n",
    "        if I > 0:\n",
    "            for r in range(0,I):\n",
    "                self.endog=self.endog.diff()\n",
    "    \n",
    "    def acfandpacf(self):\n",
    "        sm.tsa.graphics.plot_acf( self.endog,title='ACF of endogenous')\n",
    "        sm.tsa.graphics.plot_pacf( self.endog,title='PACF of endogenous')\n",
    "    \n",
    "    @staticmethod\n",
    "    def _seasonaltrendmse(parms,endog,exog,sp,sq,m):\n",
    "        arparams,maparams,alpha,bias = parms[0:sp],parms[sp:sp+sq],parms[sp+sq:sp+sq+1],parms[sp+sq+1:]\n",
    "        armapredicts=np.zeros(endog.shape[0])\n",
    "        res=np.zeros(endog.shape[0])\n",
    "        res[0:sq]=endog[0:sq]-np.mean(endog)\n",
    "        armapredicts[0:sp]= endog[0:sp]\n",
    "       \n",
    "        \n",
    "        if sp==0:  \n",
    "            t=np.arange(1,endog.shape[0]-m)\n",
    "            for i in range(1,endog.shape[0]-m-sq):\n",
    "               \n",
    "                armapredicts[i] = np.array([[res[i-f+sq+m]-res[i-f+sq]] for f in range(0,sq)]).T.dot(maparams)  +t[i]*alpha + bias\n",
    "                #res[i+q]=abs(armapredicts[i]-endog[i])\n",
    "        if sq==0: \n",
    "            t=np.arange(1,endog.shape[0]-m)\n",
    "            for i in range(1,endog.shape[0]-m-sp):\n",
    "                armapredicts[i] =  np.array([ [armapredicts[i-f+sp+m]- armapredicts[i-f+sp]] for f in range(0,p)]).T.dot(arparams) +t[i]*alpha + bias\n",
    "                #res[i+q]=abs(armapredicts[i]-endog[i])\n",
    "        else:\n",
    "            if sp > sq:\n",
    "                t=np.arange(1,endog.shape[0]-m)\n",
    "                for i in range(1,endog.shape[0]-m-sp):\n",
    "                    armapredicts[i] =  np.array([ [armapredicts[i-f+m+sp]-armapredicts[i-f+sp]] for f in range(0,sp)]).T.dot(arparams.reshape(-1,1)) + np.array([[res[i-f+m+sq]-res[i-f+sq]] for f in range(0,sq)]).T.dot(maparams.reshape(-1,1)) + t[i]*alpha + bias \n",
    "                    #res[i+q]=abs(armapredicts[i]-endog[i])\n",
    "            if sq > sp:\n",
    "                t=np.arange(1,endog.shape[0]-m)\n",
    "                for i in range(1,endog.shape[0]-m-sq):\n",
    "                    armapredicts[i] =  np.array([ [armapredicts[i-f+m+sp]-armapredicts[i-f+sp]] for f in range(0,sp)]).T.dot(arparams.reshape(-1,1)) + np.array([[res[i-f+m+sq]-res[i-f+sq]] for f in range(0,sq)]).T.dot(maparams.reshape(-1,1))  + t[i]*alpha + bias \n",
    "                    #res[i+q]=abs(armapredicts[i]-endog[i])\n",
    "            else:\n",
    "                t=np.arange(0,endog.shape[0]-m)\n",
    "                for i in range(1,endog.shape[0]-m-sq):\n",
    "                    armapredicts[i] =  np.array([ [armapredicts[i-f+m+sp]-armapredicts[i-f+sp]] for f in range(0,sp)]).T.dot(arparams.reshape(-1,1)) + np.array([[res[i-f+m+sq]-res[i-f+sq]] for f in range(0,sq)]).T.dot(maparams.reshape(-1,1))  +  t[i]*alpha +bias\n",
    "                    #res[i+q]=abs(armapredicts[i]-endog[i])\n",
    "        mse=(endog-armapredicts)**2\n",
    "        summse=np.sum(mse)\n",
    "        return summse\n",
    "        \n",
    "    def updateendog(self,optimizer):\n",
    "        opti = spop.minimize(self._seasonaltrendmse,self.ox0,args=(self.endog,self.exog,self.sp,self.sq, self.m), method=optimizer)\n",
    "        parms=opti.x \n",
    "        arparams,maparams,alpha,bias = parms[0:self.sp],parms[self.sp:self.sp+self.sq],parms[self.sp+self.sq:self.sp+self.sq+1],parms[self.sp+self.sq+1:]\n",
    "        armapredicts=np.zeros(self.endog.shape[0])\n",
    "        res=np.zeros(self.endog.shape[0])\n",
    "        res[0:self.sq]=self.endog[0:self.sq]-np.mean(self.endog)\n",
    "        armapredicts[0:self.sp]= self.endog[0:self.sp]\n",
    "       \n",
    "        \n",
    "        if self.sp==0:  \n",
    "            t=np.arange(0,self.endog.shape[0]-self.m-self.sq)\n",
    "            for i in range(1,self.endog.shape[0]-self.m):\n",
    "               \n",
    "                armapredicts[i] = np.array([[res[i-f+self.m+self.sq]-res[i-f+self.sq]] for f in range(0,self.sq)]).T.dot(maparams)  +t[i]*alpha + bias\n",
    "                #res[i+q]=abs(armapredicts[i]-endog[i])\n",
    "        if self.sq==0: \n",
    "            t=np.arange(0,self.endog.shape[0]-self.m-self.sp)\n",
    "            for i in range(1,self.endog.shape[0]-self.m):\n",
    "                armapredicts[i] =  np.array([ [armapredicts[i-f+self.m+self.sp] -armapredicts[i-f+self.sp]] for f in range(0,self.sp)]).T.dot(arparams)  +t[i]*alpha + bias\n",
    "                #res[i+q]=abs(armapredicts[i]-endog[i])\n",
    "        else:\n",
    "            if self.sp > self.sq:\n",
    "                t=np.arange(0,self.endog.shape[0]-self.m-self.sp)\n",
    "                for i in range(1,self.endog.shape[0]-self.m):\n",
    "                    armapredicts[i] =  np.array([ [armapredicts[i-f+self.m+self.sp]-armapredicts[i-f+self.sq]] for f in range(0,self.sp)]).T.dot(arparams.reshape(-1,1)) + np.array([[res[i-f+self.m+self.sq]-res[i-f+self.sq]] for f in range(0,self.sq)]).T.dot(maparams.reshape(-1,1)) + t[i]*alpha + bias \n",
    "                    #res[i+q]=abs(armapredicts[i]-endog[i])\n",
    "            if self.sq > self.sp:\n",
    "                t=np.arange(0,self.endog.shape[0]-self.m-self.sq)\n",
    "                for i in range(1,self.endog.shape[0]-self.m):\n",
    "                    armapredicts[i] =  np.array([ [armapredicts[i-f+self.m+self.sp]-armapredicts[i-f+self.sp]] for f in range(0,self.sp)]).T.dot(arparams.reshape(-1,1)) + np.array([[res[i-f+self.m+self.sq]-res[i-f+self.sq]] for f in range(0,self.sq)]).T.dot(maparams.reshape(-1,1))  + t[i]*alpha + bias \n",
    "                    #res[i+q]=abs(armapredicts[i]-endog[i])\n",
    "            else:\n",
    "                t=np.arange(0,self.endog.shape[0]-self.m)\n",
    "                for i in range(1,self.endog.shape[0]-self.m-self.sq):\n",
    "                    armapredicts[i] =  np.array([ [armapredicts[i-f+self.m+self.sp]-armapredicts[i-f+self.sp]] for f in range(0,self.sp)]).T.dot(arparams.reshape(-1,1)) + np.array([[res[i-f+self.m+self.sq]-res[i-f+self.sq]] for f in range(0,self.sq)]).T.dot(maparams.reshape(-1,1))  +  t[i]*alpha +bias\n",
    "                    #res[i+q]=abs(armapredicts[i]-endog[i])\n",
    "        self.endog=self.endog - armapredicts\n",
    "        return parms\n",
    "        \n",
    "    def updateendogtest(self,endogtest,parms):\n",
    "        arparams,maparams,alpha,bias = parms[0:self.sp],parms[self.sp:self.sp+self.sq],parms[self.sp+self.sq:self.sp+self.sq+1],parms[self.sp+self.sq+1:]\n",
    "        armapredicts=np.zeros(endogtest.shape[0])\n",
    "        res=np.zeros(endogtest.shape[0])\n",
    "        res[0:self.sq]=endogtest[0:self.sq]-np.mean(endogtest)\n",
    "        armapredicts[0:self.sp]= endogtest[0:self.sp]\n",
    "        \n",
    "        \n",
    "        if self.sp==0:  \n",
    "            t=np.arange(1,endogtest.shape[0]-self.m)\n",
    "            for i in range(1,endogtest.shape[0]-self.sq-self.m):\n",
    "               \n",
    "                armapredicts[i] = np.array([[res[i-f+self.sq+self.m]-res[i-f+self.sq]] for f in range(0,self.sq)]).T.dot(maparams)  +t[i]*alpha + bias\n",
    "                #res[i+q]=abs(armapredicts[i]-endog[i])\n",
    "        if self.sq==0: \n",
    "            t=np.arange(1,endogtest.shape[0]-self.m)\n",
    "            for i in range(1,endogtest.shape[0]-self.sp-self.m):\n",
    "                armapredicts[i] =  np.array([ [armapredicts[i-f+self.sp+self.m]-armapredicts[i-f+self.sp]] for f in range(0,self.sp)]).T.dot(arparams)  +t[i]*alpha + bias\n",
    "                #res[i+q]=abs(armapredicts[i]-endog[i])\n",
    "        else:\n",
    "            if self.sp > self.sq:\n",
    "                t=np.arange(1,endogtest.shape[0]-self.m)\n",
    "                for i in range(1,endogtest.shape[0]-self.sp-self.m):\n",
    "                    armapredicts[i] =  np.array([ [armapredicts[i-f+self.sp+self.m]-armapredicts[i-f+self.sp]] for f in range(0,self.sp)]).T.dot(arparams.reshape(-1,1)) + np.array([[res[i-f+self.sq+self.m]-res[i-f+self.sq]] for f in range(0,self.sq)]).T.dot(maparams.reshape(-1,1)) + t[i]*alpha + bias \n",
    "                    #res[i+q]=abs(armapredicts[i]-endog[i])\n",
    "            if self.sq > self.sp:\n",
    "                t=np.arange(1,endogtest.shape[0]-self.m)\n",
    "                for i in range(1,endogtest.shape[0]-self.sq-self.m):\n",
    "                    armapredicts[i] =  np.array([ [armapredicts[i-f+self.sp+self.m]-armapredicts[i-f+self.sp]] for f in range(0,self.sp)]).T.dot(arparams.reshape(-1,1)) + np.array([[res[i-f+self.sq+self.m]-res[i-f+self.sq]] for f in range(0,self.sq)]).T.dot(maparams.reshape(-1,1))  + t[i]*alpha + bias \n",
    "                    #res[i+q]=abs(armapredicts[i]-endog[i])\n",
    "            else:\n",
    "                t=np.arange(1,endogtest.shape[0]-self.m)\n",
    "                for i in range(0,endogtest.shape[0]-self.sq-self.m):\n",
    "                    armapredicts[i] =  np.array([ [armapredicts[i-f+self.m]-armapredicts[i-f+self.sp]] for f in range(0,self.sp)]).T.dot(arparams.reshape(-1,1)) + np.array([[res[i-f+self.m] -res[i-f+self.sq]] for f in range(0,self.sq)]).T.dot(maparams.reshape(-1,1))  +  t[i]*alpha +bias\n",
    "        \n",
    "        return endogtest-armapredicts\n",
    "        \n",
    "    \n",
    "    @staticmethod\n",
    "    def _mse(parms,endog,exog,p,q):\n",
    "        arparams,maparams,exogparams,bias = parms[0:p],parms[p:p+q],parms[p+q:p+q+exog.shape[1]],parms[p+q+exog.shape[1]:]\n",
    "        armapredicts=np.zeros(endog.shape[0])\n",
    "        res=np.zeros(endog.shape[0])\n",
    "        res[0:q]=endog[0:q]-np.mean(endog)\n",
    "        armapredicts[0:p]= endog[0:p]\n",
    "        \n",
    "        \n",
    "        if p==0:  \n",
    "            for i in range(1,endog.shape[0]-q):\n",
    "                armapredicts[i] = np.array([[res[i-f+q]] for f in range(0,q)]).T.dot(maparams) + exog.iloc[i,:].T.dot(exogparams) + bias\n",
    "                #res[i+q]=abs(armapredicts[i]-endog[i])\n",
    "        if q==0:  \n",
    "            for i in range(1,endog.shape[0]-p):\n",
    "                armapredicts[i] =  np.array([ [armapredicts[i-f+p]] for f in range(0,p)]).T.dot(arparams)  + exog.iloc[i,:].T.dot(exogparams) + bias\n",
    "                #res[i+q]=abs(armapredicts[i]-endog[i])\n",
    "        else:\n",
    "            if p > q:\n",
    "                for i in range(1,endog.shape[0]-p):\n",
    "                    armapredicts[i] =  np.array([ [armapredicts[i-f+p]] for f in range(0,p)]).T.dot(arparams.reshape(-1,1)) + np.array([[res[i-f+q]] for f in range(0,q)]).T.dot(maparams.reshape(-1,1)) + exog.iloc[i,:].T.dot(exogparams.reshape(-1,1)) + bias \n",
    "                    #res[i+q]=abs(armapredicts[i]-endog[i])\n",
    "            if q > p:\n",
    "                for i in range(1,endog.shape[0]-q):\n",
    "                    armapredicts[i] =  np.array([ [armapredicts[i-f+p]] for f in range(0,p)]).T.dot(arparams.reshape(-1,1)) + np.array([[res[i-f+q]] for f in range(0,q)]).T.dot(maparams.reshape(-1,1)) + exog.iloc[i,:].T.dot(exogparams.reshape(-1,1)) + bias \n",
    "                    #res[i+q]=abs(armapredicts[i]-endog[i])\n",
    "            else:\n",
    "                for i in range(1,endog.shape[0]-q):\n",
    "                    armapredicts[i] =  np.array([ [armapredicts[i-f+p]] for f in range(0,p)]).T.dot(arparams.reshape(-1,1)) + np.array([[res[i-f+q]] for f in range(0,q)]).T.dot(maparams.reshape(-1,1)) + exog.iloc[i,:].T.dot(exogparams.reshape(-1,1)) + bias\n",
    "                    #res[i+q]=abs(armapredicts[i]-endog[i])\n",
    "        mse=(endog-armapredicts)**2\n",
    "        summse=np.sum(mse)\n",
    "        \n",
    "        return summse\n",
    "    \n",
    "    \n",
    "    def fit_predict(self,endogtest,exogtest,optimizer,n_iterations):\n",
    "        exog=exogtest\n",
    "        opti = spop.minimize(self._mse,self.x0,args=(self.endog,self.exog,self.p,self.q), method=optimizer)\n",
    "        parms=opti.x\n",
    "        mse=self._mse(parms,self.endog,self.exog,self.p,self.q)\n",
    "        if exog.shape[1] != self.exog.shape[1]:\n",
    "            print('ERROR: Exogenous testing has {} columns, while the training exogenous data set has {} columns '.format(exog.shape[1],self.exog.shape[1]))\n",
    "        if self.I > 0:\n",
    "            for r in range(0,self.I):\n",
    "                endogtest=endogtest.diff()\n",
    "        \n",
    "        arparams,maparams,exogparams,bias = parms[0:self.p],parms[self.p:self.p+self.q],parms[self.p+self.q:self.p+self.q+self.exog.shape[1]],parms[self.p+self.q+self.exog.shape[1]:]\n",
    "        armapredicts=np.zeros(n_iterations)\n",
    "        armapredicts[0:self.p]=self.endog[self.endog.shape[0]-self.p: self.endog.shape[0]]\n",
    "        res=np.zeros(n_iterations)\n",
    "        res[0:self.q]=self.res[len(self.res)-self.q: len(self.res)]\n",
    "        if self.p==0:  \n",
    "            for i in range(1,n_iterations-self.q):\n",
    "                armapredicts[i] = np.array([ [res[i-f+self.q]] for f in range(0,self.q)]).T.dot(maparams) + self.exog.iloc[i,:].T.dot(exogparams) + bias\n",
    "                res[i+self.q]= abs(armapredicts[i] - endogtest[i])\n",
    "        if self.q==0:  \n",
    "            for i in range(1,n_iterations-self.p):\n",
    "                armapredicts[i] =  np.array([ [armapredicts[i-f+self.p]] for f in range(0,self.p)]).T.dot(arparams)  + self.exog.iloc[i,:].T.dot(exogparams) + bias\n",
    "                res[i+self.q]= abs(armapredicts[i] - endogtest[i])\n",
    "        else:\n",
    "            if self.p > self.q:\n",
    "                for i in range(1,n_iterations-self.p):\n",
    "                    armapredicts[i] =  np.array([ [armapredicts[i-f+self.p]] for f in range(0,self.p)]).T.dot(arparams.reshape(-1,1)) + np.array([[res[i-f+self.q]] for f in range(0,self.q)]).T.dot(maparams.reshape(-1,1)) + exog.iloc[i,:].T.dot(exogparams.reshape(-1,1)) + bias \n",
    "                    res[i+self.q]= abs(armapredicts[i] - endogtest[i])\n",
    "            if self.q > self.p:\n",
    "                for i in range(1,n_iterations-self.q):\n",
    "                    armapredicts[i] =  np.array([ [armapredicts[i-f+self.p]] for f in range(0,self.p)]).T.dot(arparams.reshape(-1,1)) + np.array([[res[i-f+self.q]] for f in range(0,self.q)]).T.dot(maparams.reshape(-1,1)) + exog.iloc[i,:].T.dot(exogparams.reshape(-1,1)) + bias \n",
    "                    res[i+self.q]= abs(armapredicts[i] - endogtest[i])\n",
    "            else:\n",
    "                for i in range(1,n_iterations-self.q):\n",
    "                    armapredicts[i] =  np.array([ [armapredicts[i-f+self.p]] for f in range(0,self.p)]).T.dot(arparams.reshape(-1,1)) + np.array([[res[i-f+self.q]] for f in range(0,self.q)]).T.dot(maparams.reshape(-1,1)) + exog.iloc[i,:].T.dot(exogparams.reshape(-1,1)) + bias\n",
    "                    res[i+self.q]= abs(armapredicts[i] - endogtest[i])\n",
    "        alpha=0.05\n",
    "        Tstat= stats.t.ppf(1-alpha, self.endog.shape[0]-len(self.x0))\n",
    "        predictionerror=np.sqrt(mse)*Tstat*np.sqrt(1+(1/self.endog.shape[0])+(armapredicts-np.mean(armapredicts))**2/(np.std(armapredicts)))\n",
    "        predint=[armapredicts - predictionerror, armapredicts + predictionerror]\n",
    "        return armapredicts,predint\n",
    "    \n",
    "    \n",
    "    \n",
    "    def stepwise_search(self,maxp,maxq,optimizer):\n",
    "        mse=[]\n",
    "        i=0\n",
    "        for p in range(1,maxp-1):\n",
    "            \n",
    "            for q in range(1,maxq-1):\n",
    "                self.x0=np.zeros(p+q+self.exog.shape[1]+1)\n",
    "                opti = spop.minimize(self._mse,self.x0,args=(self.endog,self.exog,p,q), method=optimizer)\n",
    "                parmso=opti.x\n",
    "                mse.append(self._mse(parmso,self.endog,self.exog,p,q))\n",
    "                print(\"the mse is {} @ p={} and q={}\".format(mse[i],p,q))\n",
    "                i+=1\n",
    "        print(mse)\n",
    "    \n",
    "    def ADFtest(self):\n",
    "        opti = spop.minimize(self._mse,self.x0,args=(self.endog,self.exog,self.p,self.q), method=optimizer)\n",
    "        parms=opti.x\n",
    "        mse=self._mse(parms,self.endog,self.exog,self.p,self.q)\n",
    "        coef=parms[0]\n",
    "        var=(np.std(self.endog))\n",
    "        coeferror= np.sqrt( (mse)/(var*(self.endog.shape[0]-len(self.x0))))\n",
    "        ADFstat=var/coeferror\n",
    "        if ADFstat < -2.9:\n",
    "            print('Unit root null hypothesis rejetced')\n",
    "        \n",
    "            \n",
    "\n"
   ]
  },
  {
   "cell_type": "code",
   "execution_count": 27,
   "id": "e4b2d4dc-d52b-459e-9445-bb0236c6c98e",
   "metadata": {},
   "outputs": [],
   "source": [
    "ar=myARMA(returnsant['Hedge Fund'][0:160],returnsant.drop('Hedge Fund',axis= 1)[0:160],3,3,0,1,1,4)"
   ]
  },
  {
   "cell_type": "code",
   "execution_count": 28,
   "id": "00a3f18c-2cc1-4e6a-bfb9-ba6a4da2238b",
   "metadata": {},
   "outputs": [
    {
     "data": {
      "text/plain": [
       "0.11056165000000001"
      ]
     },
     "execution_count": 28,
     "metadata": {},
     "output_type": "execute_result"
    }
   ],
   "source": [
    "ox0=np.zeros(1+1+2)\n",
    "ar._seasonaltrendmse(ox0,returnsant['Hedge Fund'][0:160],returnsant.drop('Hedge Fund',axis= 1)[0:160],1,1,4)"
   ]
  },
  {
   "cell_type": "code",
   "execution_count": 30,
   "id": "02efcb1a-fd2c-418d-8c82-032c1d562a9d",
   "metadata": {},
   "outputs": [],
   "source": [
    "parms= ar.updateendog('Nelder-mead')"
   ]
  },
  {
   "cell_type": "code",
   "execution_count": 31,
   "id": "80e56e60-e96e-46e9-bd2b-1955ece8de6a",
   "metadata": {},
   "outputs": [
    {
     "data": {
      "text/plain": [
       "array([ 4.12558970e-04, -2.27635937e-03, -3.39855629e-05,  3.83098713e-03])"
      ]
     },
     "execution_count": 31,
     "metadata": {},
     "output_type": "execute_result"
    }
   ],
   "source": [
    "parms"
   ]
  },
  {
   "cell_type": "code",
   "execution_count": 32,
   "id": "f085c706-1cec-4e5f-9442-8c507c0449a4",
   "metadata": {},
   "outputs": [],
   "source": [
    "endogtest=ar.updateendogtest(returnsant['Hedge Fund'][160:194],parms)"
   ]
  },
  {
   "cell_type": "code",
   "execution_count": 44,
   "id": "37e2bdb4-78aa-4e00-8164-42e1329c80ad",
   "metadata": {},
   "outputs": [],
   "source": [
    "from statsmodels.tsa.seasonal import seasonal_decompose\n",
    "copy=returnsant[0:160].copy()\n",
    "for feature in returnsant.columns:   \n",
    "    copy[feature]=returnsant[feature] - seasonal_decompose(returnsant[feature],model='a',period=4).seasonal\n",
    "for feature in returnsant.columns:   \n",
    "    copy[feature]=returnsant[feature] - seasonal_decompose(returnsant[feature],model='a',period=4).trend"
   ]
  },
  {
   "cell_type": "code",
   "execution_count": 52,
   "id": "f21962dc-3629-4590-aa56-5b573ab2628e",
   "metadata": {},
   "outputs": [
    {
     "data": {
      "text/plain": [
       "array([       nan,        nan,  0.0153875,  0.011625 , -0.034175 ,\n",
       "        0.0016375,  0.012275 , -0.0005   , -0.0101875,  0.0163   ,\n",
       "       -0.0063125, -0.0030875,  0.01905  , -0.0185375, -0.0049   ,\n",
       "        0.0098375,  0.011575 , -0.0253875,  0.035425 , -0.034    ,\n",
       "       -0.000425 ,  0.0170125, -0.0055   ,  0.03375  , -0.0613625,\n",
       "        0.026125 , -0.0120875,  0.0221   ,  0.0133125, -0.0131875,\n",
       "       -0.02715  ,  0.0075625, -0.0007125,  0.0232125, -0.0088625,\n",
       "       -0.03845  ,  0.0311   ,  0.0444875, -0.0405875, -0.0099125,\n",
       "        0.04215  , -0.023925 , -0.02605  ,  0.0044375,  0.0215625,\n",
       "       -0.0076625, -0.0160625,  0.0152   , -0.004175 ,  0.033175 ,\n",
       "       -0.039825 , -0.0034875,  0.0167375,  0.016925 , -0.025975 ,\n",
       "        0.01195  , -0.01835  ,  0.0083875,  0.0211625, -0.047675 ,\n",
       "        0.0354625,  0.0193125, -0.0356125,  0.016475 , -0.00925  ,\n",
       "       -0.0025875,  0.0321375, -0.03555  ,  0.0132   ,  0.0072125,\n",
       "       -0.0134   ,  0.0055125, -0.0042875, -0.0085125,  0.0273125,\n",
       "       -0.005025 , -0.0327625,  0.02185  , -0.002925 ,  0.0041625,\n",
       "        0.0122125, -0.0192625,  0.009725 , -0.0075   , -0.0039625,\n",
       "        0.0164   ,  0.00745  , -0.020775 , -0.001175 , -0.0018375,\n",
       "        0.0172   , -0.0148125, -0.0116125,  0.015925 ,  0.004625 ,\n",
       "        0.0031   ,  0.00445  ,  0.01395  , -0.0302125, -0.01815  ,\n",
       "        0.0339375, -0.004325 , -0.024725 ,  0.0228625,  0.017925 ,\n",
       "       -0.0335125,  0.0021375,  0.011175 , -0.0111   ,  0.0183625,\n",
       "        0.009175 , -0.0486875,  0.024775 , -0.0069125,  0.0446375,\n",
       "       -0.0362375, -0.0170375,  0.0240625,  0.0041125,  0.0105875,\n",
       "       -0.022775 , -0.00035  ,  0.004    , -0.01905  ,  0.0280875,\n",
       "       -0.0077   , -0.0042125,  0.008825 ,  0.013475 , -0.0147875,\n",
       "       -0.008225 , -0.00375  , -0.00795  ,  0.0151625, -0.010825 ,\n",
       "        0.007825 ,  0.0222   , -0.0237375,  0.0063625,  0.0158125,\n",
       "       -0.0366   ,  0.04665  , -0.035775 , -0.001875 ,  0.017275 ,\n",
       "        0.006725 , -0.00705  , -0.0329375,  0.0464125, -0.0200125,\n",
       "       -0.0143   ,  0.0507   , -0.0388   , -0.00795  ,  0.009425 ,\n",
       "       -0.0072   , -0.00265  ,  0.015625 , -0.00755  ,  0.022    ])"
      ]
     },
     "execution_count": 52,
     "metadata": {},
     "output_type": "execute_result"
    }
   ],
   "source": [
    "copy['Hedge Fund'].values"
   ]
  },
  {
   "cell_type": "code",
   "execution_count": 53,
   "id": "61754713-f74d-4a5f-9d4c-c1e7de78e105",
   "metadata": {},
   "outputs": [],
   "source": [
    "proj,_=ar.fit_predict(copy['Hedge Fund'].values,returnsant.drop('Hedge Fund',axis= 1)[0:160],'Nelder-mead',160)"
   ]
  },
  {
   "cell_type": "code",
   "execution_count": 46,
   "id": "1660c116-770a-46eb-907c-da7bf6821789",
   "metadata": {},
   "outputs": [],
   "source": [
    "_=np.array(_)\n",
    "_=_.T"
   ]
  },
  {
   "cell_type": "code",
   "execution_count": 47,
   "id": "24214f25-8488-408e-92e8-2cdabb836648",
   "metadata": {},
   "outputs": [],
   "source": [
    "_=np.array(_)"
   ]
  },
  {
   "cell_type": "code",
   "execution_count": 48,
   "id": "6d13c97d-d734-40d3-8048-f93877ab5569",
   "metadata": {},
   "outputs": [],
   "source": [
    "_=_.T"
   ]
  },
  {
   "cell_type": "code",
   "execution_count": 49,
   "id": "c0ffe778-78ea-4076-9e2d-d2b114629f09",
   "metadata": {},
   "outputs": [
    {
     "data": {
      "text/plain": [
       "(2, 160)"
      ]
     },
     "execution_count": 49,
     "metadata": {},
     "output_type": "execute_result"
    }
   ],
   "source": [
    "_.shape"
   ]
  },
  {
   "cell_type": "code",
   "execution_count": 54,
   "id": "58a18725-70a2-408f-9a2e-0888b36ab349",
   "metadata": {},
   "outputs": [
    {
     "data": {
      "text/plain": [
       "array([ 0.0408    , -0.01336778,         nan,         nan,         nan,\n",
       "               nan,         nan,         nan,         nan,         nan,\n",
       "               nan,         nan,         nan,         nan,         nan,\n",
       "               nan,         nan,         nan,         nan,         nan,\n",
       "               nan,         nan,         nan,         nan,         nan,\n",
       "               nan,         nan,         nan,         nan,         nan,\n",
       "               nan,         nan,         nan,         nan,         nan,\n",
       "               nan,         nan,         nan,         nan,         nan,\n",
       "               nan,         nan,         nan,         nan,         nan,\n",
       "               nan,         nan,         nan,         nan,         nan,\n",
       "               nan,         nan,         nan,         nan,         nan,\n",
       "               nan,         nan,         nan,         nan,         nan,\n",
       "               nan,         nan,         nan,         nan,         nan,\n",
       "               nan,         nan,         nan,         nan,         nan,\n",
       "               nan,         nan,         nan,         nan,         nan,\n",
       "               nan,         nan,         nan,         nan,         nan,\n",
       "               nan,         nan,         nan,         nan,         nan,\n",
       "               nan,         nan,         nan,         nan,         nan,\n",
       "               nan,         nan,         nan,         nan,         nan,\n",
       "               nan,         nan,         nan,         nan,         nan,\n",
       "               nan,         nan,         nan,         nan,         nan,\n",
       "               nan,         nan,         nan,         nan,         nan,\n",
       "               nan,         nan,         nan,         nan,         nan,\n",
       "               nan,         nan,         nan,         nan,         nan,\n",
       "               nan,         nan,         nan,         nan,         nan,\n",
       "               nan,         nan,         nan,         nan,         nan,\n",
       "               nan,         nan,         nan,         nan,         nan,\n",
       "               nan,         nan,         nan,         nan,         nan,\n",
       "               nan,         nan,         nan,         nan,         nan,\n",
       "               nan,         nan,         nan,         nan,         nan,\n",
       "               nan,         nan,         nan,         nan,         nan,\n",
       "               nan,         nan,  0.        ,  0.        ,  0.        ])"
      ]
     },
     "execution_count": 54,
     "metadata": {},
     "output_type": "execute_result"
    }
   ],
   "source": [
    "proj"
   ]
  },
  {
   "cell_type": "code",
   "execution_count": 39,
   "id": "ef4ded41-e12c-4268-b8bb-28a4df387d59",
   "metadata": {},
   "outputs": [
    {
     "data": {
      "text/plain": [
       "[<matplotlib.lines.Line2D at 0x7fbe103cc130>]"
      ]
     },
     "execution_count": 39,
     "metadata": {},
     "output_type": "execute_result"
    },
    {
     "data": {
      "image/png": "[encoded data removed]",
      "text/plain": [
       "<Figure size 432x288 with 1 Axes>"
      ]
     },
     "metadata": {
      "needs_background": "light"
     },
     "output_type": "display_data"
    }
   ],
   "source": [
    "plt.plot(proj,c='r')\n",
    "plt.plot(_[:,0],c='r')\n",
    "plt.plot(_[:,1],c='r')\n",
    "plt.plot(np.arange(0,34),endogtest,c='b')"
   ]
  },
  {
   "cell_type": "code",
   "execution_count": 165,
   "id": "8a70724f-dc64-4eb6-8e2c-a3100fa93bb6",
   "metadata": {},
   "outputs": [
    {
     "data": {
      "text/plain": [
       "0.1013523072021148"
      ]
     },
     "execution_count": 165,
     "metadata": {},
     "output_type": "execute_result"
    }
   ],
   "source": [
    "x0=np.zeros(1+1+returnsant.drop('Hedge Fund',axis= 1).shape[1]+1)\n",
    "ar._mse(x0,newendog,returnsant.drop('Hedge Fund',axis= 1)[0:160],1,1)"
   ]
  },
  {
   "cell_type": "code",
   "execution_count": null,
   "id": "743f7ee2-a93d-46e6-86ca-12b52c1b5393",
   "metadata": {},
   "outputs": [],
   "source": []
  },
  {
   "cell_type": "code",
   "execution_count": 77,
   "id": "9f9310e2-8470-41db-8cce-528a7198f592",
   "metadata": {},
   "outputs": [
    {
     "data": {
      "text/plain": [
       "[<matplotlib.lines.Line2D at 0x7fcc10189520>]"
      ]
     },
     "execution_count": 77,
     "metadata": {},
     "output_type": "execute_result"
    },
    {
     "data": {
      "image/png": "[encoded data removed]",
      "text/plain": [
       "<Figure size 432x288 with 1 Axes>"
      ]
     },
     "metadata": {
      "needs_background": "light"
     },
     "output_type": "display_data"
    }
   ],
   "source": [
    "plt.plot(ar.fit_predict(returnsant['Hedge Fund'][160:194],returnsant.drop('Hedge Fund',axis=1)[160:194],'Nelder-mead',34),c='r')\n",
    "plt.plot(np.arange(0,34),returnsant['Hedge Fund'][160:194],c='b')"
   ]
  },
  {
   "cell_type": "code",
   "execution_count": null,
   "id": "ac441d6e-c599-4c9f-9bc2-212911588b9b",
   "metadata": {},
   "outputs": [],
   "source": [
    "returnsant['Hedge Fund'][returnsant['Hedge Fund'].shape[0]-2: returnsant['Hedge Fund'].shape[0]]"
   ]
  },
  {
   "cell_type": "code",
   "execution_count": null,
   "id": "26c6cc7a-fffd-4e04-830b-e1e041232542",
   "metadata": {},
   "outputs": [],
   "source": []
  },
  {
   "cell_type": "code",
   "execution_count": null,
   "id": "c4537375-d195-4d14-8d6b-ae754699147e",
   "metadata": {},
   "outputs": [],
   "source": [
    "\n",
    "      \n",
    "def loghood(parms,endog,exog,p,q):\n",
    "    arparams,maparams,exogparams,bias = parms[0:p],parms[p:p+q],parms[p+q:p+q+exog.shape[1]],parms[p+q+exog.shape[1]:-1]\n",
    "    \n",
    "    armapredicts=np.zeros(endog.shape[0])\n",
    "    bias=0\n",
    "    res=abs(endog - np.mean(endog))\n",
    "    if p==0:  \n",
    "        for i in range(1,endog.shape[0]-q):\n",
    "            armapredicts[i] = np.array([[res[i-f+q]] for f in range(0,q)]).T.dot(maparams) + exog.iloc[i,:].T.dot(exogparams) + bias\n",
    "    if q==0:  \n",
    "        for i in range(1,endog.shape[0]-p):\n",
    "            armapredicts[i] =  np.array([ [endog[i-f+p]] for f in range(0,p)]).T.dot(arparams)  + exog.iloc[i,:].T.dot(exogparams) + bias\n",
    "    else:\n",
    "        for i in range(1,endog.shape[0]-2):\n",
    "            \n",
    "            armapredicts[i] =  np.array([ [endog[i-f+p]] for f in range(0,p)]).T.dot(arparams.reshape(-1,1)) + np.array([[res[i-f+q]] for f in range(0,q)]).T.dot(maparams.reshape(-1,1)) + exog.iloc[i,:].T.dot(exogparams.reshape(-1,1)) + bias \n",
    "    mse=(endog-armapredicts)**2\n",
    "    summse=np.sum(mse)\n",
    "    #liklihood=1/((2*np.pi*armapredicts)**(1/2))*np.exp(-res**2/(2*armapredicts**2))\n",
    "  \n",
    "    #log_hood=np.sum(-np.log(liklihood.squeeze()))\n",
    " \n",
    "    return summse\n",
    "def loghoodpredict(parms,endog,exog,p,q):\n",
    "    arparams,maparams,exogparams,bias = parms[0:p],parms[p:p+q],parms[p+q:p+q+exog.shape[1]],parms[p+q+exog.shape[1]:-1]\n",
    "    \n",
    "    armapredicts=np.zeros(endog.shape[0])\n",
    "    bias=0\n",
    "    res=abs(endog - np.mean(endog))\n",
    "    if p==0:  \n",
    "        for i in range(1,endog.shape[0]-q):\n",
    "            armapredicts[i] = np.array([[res[i-f+q]] for f in range(0,q)]).T.dot(maparams) + exog.iloc[i,:].T.dot(exogparams) + bias\n",
    "    if q==0:  \n",
    "        for i in range(1,endog.shape[0]-p):\n",
    "            armapredicts[i] =  np.array([ [endog[i-f+p]] for f in range(0,p)]).T.dot(arparams)  + exog.iloc[i,:].T.dot(exogparams) + bias\n",
    "    else:\n",
    "        for i in range(1,endog.shape[0]-2):\n",
    "            \n",
    "            armapredicts[i] =  np.array([ [endog[i-f+p]] for f in range(0,p)]).T.dot(arparams.reshape(-1,1)) + np.array([[res[i-f+q]] for f in range(0,q)]).T.dot(maparams.reshape(-1,1)) + exog.iloc[i,:].T.dot(exogparams.reshape(-1,1)) + bias \n",
    "    mse=(endog-armapredicts)**2\n",
    "    summse=np.sum(mse)\n",
    "    #liklihood=1/((2*np.pi*armapredicts)**(1/2))*np.exp(-res**2/(2*armapredicts**2))\n",
    "  \n",
    "    #log_hood=np.sum(-np.log(liklihood.squeeze()))\n",
    " \n",
    "    return armapredicts"
   ]
  },
  {
   "cell_type": "code",
   "execution_count": null,
   "id": "976a885b-4c5e-4f17-bea8-6723b8466c97",
   "metadata": {},
   "outputs": [],
   "source": [
    "import matplotlib.pyplot as plt\n",
    "plt.plot(loghoodpredict(np.array([ 0.13145366,  0.16091521, -0.0429173 ,  0.08853805, -0.22356078,\n",
    "        0.02327908, -0.09303057, -0.0336204 , -0.03710137, -0.02853   ,\n",
    "       -0.14864279, -0.0160258 , -0.043898  ,  0.08805484,  0.11858103,\n",
    "        0.20677045,  0.33182327, -0.18666984,  0.1493662 ,  0.08164309,\n",
    "       -0.2331048]),returnsant['Hedge Fund'],returnsant.drop('Hedge Fund',axis= 1),1,1))\n",
    "plt.plot(returnsant['Hedge Fund'])"
   ]
  },
  {
   "cell_type": "code",
   "execution_count": null,
   "id": "91b7c2d1-87de-4041-bff1-57efc745ffd7",
   "metadata": {},
   "outputs": [],
   "source": [
    "x0=np.zeros(5+returnsant.shape[1]-1)\n",
    "res = spop.minimize(loghood,x0,args=(returnsant['Hedge Fund'],returnsant.drop('Hedge Fund',axis= 1),1,1), method='Nelder-mead')\n",
    "print(res)"
   ]
  },
  {
   "cell_type": "code",
   "execution_count": null,
   "id": "80f9d740-dec4-40e5-9c9a-b16480461bdd",
   "metadata": {},
   "outputs": [],
   "source": [
    "x0=np.array([np.ones(2),np.ones(2),np.ones(returnsant.shape[1]-1),1],dtype=object).tolist()\n",
    "res = spop.minimize(loghood,x0,args=(returnsant['Hedge Fund'],returnsant.drop('Hedge Fund',axis= 1),2,2), method='Nelder-mead')\n",
    "print(res)"
   ]
  },
  {
   "cell_type": "code",
   "execution_count": null,
   "id": "2513093c-511e-49d1-a9fe-2d4fff835af7",
   "metadata": {},
   "outputs": [],
   "source": [
    "loghood([np.ones(2),np.ones(2),np.ones(returnsant.shape[1]-1),0],returnsant['Hedge Fund'],returnsant.drop('Hedge Fund',axis= 1),2,2)"
   ]
  },
  {
   "cell_type": "code",
   "execution_count": null,
   "id": "08c4b2fa-b8f3-4166-b694-f8023ab7bfa0",
   "metadata": {},
   "outputs": [],
   "source": [
    "minimize(loghood,0,1, returnsant)"
   ]
  },
  {
   "cell_type": "code",
   "execution_count": null,
   "id": "f725add5-2f0e-4d20-8909-cd14be3d25d0",
   "metadata": {},
   "outputs": [],
   "source": []
  }
 ],
 "metadata": {
  "kernelspec": {
   "display_name": "Python 3 (ipykernel)",
   "language": "python",
   "name": "python3"
  },
  "language_info": {
   "codemirror_mode": {
    "name": "ipython",
    "version": 3
   },
   "file_extension": ".py",
   "mimetype": "text/x-python",
   "name": "python",
   "nbconvert_exporter": "python",
   "pygments_lexer": "ipython3",
   "version": "3.9.7"
  }
 },
 "nbformat": 4,
 "nbformat_minor": 5
}
